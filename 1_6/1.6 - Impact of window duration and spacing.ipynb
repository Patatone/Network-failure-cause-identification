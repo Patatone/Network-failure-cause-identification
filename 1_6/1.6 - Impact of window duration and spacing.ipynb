{
 "cells": [
  {
   "cell_type": "code",
   "execution_count": 1,
   "metadata": {},
   "outputs": [
    {
     "name": "stderr",
     "output_type": "stream",
     "text": [
      "Intel(R) Extension for Scikit-learn* enabled (https://github.com/intel/scikit-learn-intelex)\n"
     ]
    }
   ],
   "source": [
    "from sklearnex import patch_sklearn\n",
    "patch_sklearn()"
   ]
  },
  {
   "cell_type": "code",
   "execution_count": 2,
   "metadata": {
    "id": "f-Dgj8rcVvCZ"
   },
   "outputs": [
    {
     "name": "stderr",
     "output_type": "stream",
     "text": [
      "C:\\Users\\marsl\\anaconda3\\envs\\ML\\lib\\site-packages\\xgboost\\compat.py:36: FutureWarning: pandas.Int64Index is deprecated and will be removed from pandas in a future version. Use pandas.Index with the appropriate dtype instead.\n",
      "  from pandas import MultiIndex, Int64Index\n"
     ]
    }
   ],
   "source": [
    "import os\n",
    "import matplotlib.pyplot as plt\n",
    "import pandas as pd\n",
    "import numpy as np\n",
    "import hyperopt\n",
    "import time\n",
    "import sklearn.metrics as mt\n",
    "import pickle\n",
    "\n",
    "from xgboost import Booster\n",
    "from xgboost import XGBClassifier\n",
    "from hyperopt import fmin, tpe, hp, STATUS_OK, Trials\n",
    "\n",
    "from sklearn.preprocessing import StandardScaler\n",
    "from sklearn.model_selection import cross_val_score, train_test_split\n",
    "from sklearn.neural_network import MLPClassifier\n",
    "from sklearn.metrics import confusion_matrix\n",
    "from sklearn.preprocessing import LabelEncoder\n",
    "from sklearn.neighbors import KNeighborsClassifier\n",
    "from itertools import chain"
   ]
  },
  {
   "cell_type": "code",
   "execution_count": 3,
   "metadata": {
    "id": "Wtkni_HDVvCg"
   },
   "outputs": [],
   "source": [
    "#################################################################################################\n",
    "###### The function load_window_dataset() that takes in input window data file, and \n",
    "###### label to be assigned and returns numpy arrays with features and labels\n",
    "#################################################################################################\n",
    "\n",
    "def load_window_dataset(X, y, filename, label):\n",
    "#Inputs: - X: current matrix of datapoints where we want to APPEND the datapoints retrieved from filename (only features)\n",
    "#        - y: current matrix of datapoints where we want to APPEND the datapoints retrieved from filename (only labels)\n",
    "#        - filename: full name (with path) of the file to be read (it must be a window dataset file created above)\n",
    "#        - label: integer, label to be assigned to the datapoints retrieved from filename; it may differ from labels already included in current y\n",
    "#Outputs: - X: updated X (including features for the new data points retrieved from filename)\n",
    "#         - y: updated y (including labels for the new data points)\n",
    "#This function to X and y in input the new datapoints retrieved from filename and return updated X and y\n",
    "#The function handle the case when X and y are empty (initialized as None)\n",
    "\n",
    "    data = pd.read_csv(filename)\n",
    "    \n",
    "    if X is None:\n",
    "        X = data.to_numpy()\n",
    "        # full() function puts in all X.shape[0] elements the value \"label\"\n",
    "        y = np.full(X.shape[0], label)\n",
    "    else:\n",
    "        X_temp = data.to_numpy()\n",
    "        y_temp = np.full(X_temp.shape[0], label)\n",
    "        X = np.append(X, X_temp, axis = 0) #F: axis=0-->stack X and X_temp vertically (increase no of rows)\n",
    "        y = np.append(y, y_temp)\n",
    "\n",
    "    return X, y\n",
    "\n"
   ]
  },
  {
   "cell_type": "code",
   "execution_count": 4,
   "metadata": {
    "id": "i6dGWj1QVvCj"
   },
   "outputs": [],
   "source": [
    "def train_classifier_XGB(X_train, y_train): \n",
    "    xgb = XGBClassifier(use_label_encoder=False, eta = 0.7, max_depth= 7, subsample = 1, verbosity = 0)\n",
    "\n",
    "    # Execute the traning 3 times to be sure that the training time is correct\n",
    "    ttimes = []\n",
    "    for i in range(0, 3):\n",
    "        t0 = time.time()\n",
    "        xgb.fit(X_train, y_train)\n",
    "        t1 = time.time()\n",
    "        ex_time = t1 - t0\n",
    "        ttimes.append(ex_time)\n",
    "        print(ex_time)\n",
    "\n",
    "    return xgb, ttimes"
   ]
  },
  {
   "cell_type": "code",
   "execution_count": 5,
   "metadata": {
    "id": "a0aJlN6lVvCl"
   },
   "outputs": [],
   "source": [
    "def train_classifier_DNN(X_train, y_train): \n",
    "    size = (50,) * 2\n",
    "    dnn = MLPClassifier(hidden_layer_sizes=size, activation='tanh',\n",
    "                        solver='adam', learning_rate='invscaling', max_iter=1000)\n",
    "\n",
    "    \n",
    "    # Execute the traning 3 times to be sure that the training time is correct\n",
    "    ttimes = []\n",
    "    for i in range(0, 3):\n",
    "        t0 = time.time()\n",
    "        dnn.fit(X_train, y_train)\n",
    "        t1 = time.time()\n",
    "        ex_time = t1 - t0\n",
    "        ttimes.append(ex_time)\n",
    "        print(ex_time)\n",
    "\n",
    "    return dnn, ttimes"
   ]
  },
  {
   "cell_type": "code",
   "execution_count": 6,
   "metadata": {
    "id": "SHnCDjAsPrmp"
   },
   "outputs": [],
   "source": [
    "def train_classifier_KNN(X_train, y_train): \n",
    "    knn = KNeighborsClassifier(leaf_size=43, p=1, n_neighbors=14)\n",
    "    \n",
    "    # Execute the traning 3 times to be sure that the training time is correct\n",
    "    ttimes = []\n",
    "    for i in range(0, 3):\n",
    "        t0 = time.time()\n",
    "        knn.fit(X_train, y_train)\n",
    "        t1 = time.time()\n",
    "        ex_time = t1 - t0\n",
    "        ttimes.append(ex_time)\n",
    "        print(ex_time)\n",
    "\n",
    "    return knn, ttimes"
   ]
  },
  {
   "cell_type": "code",
   "execution_count": 7,
   "metadata": {
    "id": "dosJAeJhVvCm"
   },
   "outputs": [],
   "source": [
    "########################################################################################################\n",
    "###### The function performance_eval() takes in input ground truth and predicted labels, \n",
    "###### prints results in a result file passed in input, and returns global metrics\n",
    "########################################################################################################\n",
    "\n",
    "def performance_eval(y_true, y_pred, lab, l_names):\n",
    "\n",
    "    #Compute metrics and print/write them\n",
    "    accuracy = mt.accuracy_score(y_true, y_pred)\n",
    "    precision = mt.precision_score(y_true, y_pred, labels=lab, average=None) #F: average=None gives per-class results\n",
    "    global_precision = mt.precision_score(y_true, y_pred, labels=lab, average='weighted') \n",
    "    recall = mt.recall_score(y_true, y_pred, labels=lab, average=None)\n",
    "    global_recall = mt.recall_score(y_true, y_pred, labels=lab, average='weighted') \n",
    "    f1score = mt.f1_score(y_true, y_pred, labels=lab, average=None)\n",
    "    global_f1score = mt.f1_score(y_true, y_pred, labels=lab, average='weighted')\n",
    "\n",
    "    return accuracy, global_precision, global_recall, global_f1score "
   ]
  },
  {
   "cell_type": "code",
   "execution_count": 8,
   "metadata": {},
   "outputs": [],
   "source": [
    "windowrange=list(chain(range(10,101,10), range(200,3601,100)))\n",
    "spacingrange=[1]\n",
    "\n",
    "A_XGB = np.zeros([len(spacingrange),len(windowrange)])\n",
    "GP_XGB = np.zeros([len(spacingrange),len(windowrange)])\n",
    "GR_XGB = np.zeros([len(spacingrange),len(windowrange)])\n",
    "GF1_XGB = np.zeros([len(spacingrange),len(windowrange)])\n",
    "\n",
    "A_DNN = np.zeros([len(spacingrange),len(windowrange)])\n",
    "GP_DNN = np.zeros([len(spacingrange),len(windowrange)])\n",
    "GR_DNN = np.zeros([len(spacingrange),len(windowrange)])\n",
    "GF1_DNN = np.zeros([len(spacingrange),len(windowrange)])\n",
    "\n",
    "A_KNN = np.zeros([len(spacingrange),len(windowrange)])\n",
    "GP_KNN = np.zeros([len(spacingrange),len(windowrange)])\n",
    "GR_KNN = np.zeros([len(spacingrange),len(windowrange)])\n",
    "GF1_KNN = np.zeros([len(spacingrange),len(windowrange)])\n",
    "\n",
    "def training_loop(windowrange, spacingrange):\n",
    "    global A_XGB, GP_XGB, GR_XGB, GF1_XGB\n",
    "    global A_DNN, GP_DNN, GR_DNN, GF1_DNN\n",
    "    global A_KNN, GP_KNN, GR_KNN, GF1_KNN\n",
    "    \n",
    "    xgb_all_ttimes = []\n",
    "    dnn_all_ttimes = []\n",
    "    knn_all_ttimes = []\n",
    "    \n",
    "    lbl = [0, 1]\n",
    "    label_names=['Attenuation', 'Filtering']\n",
    "\n",
    "    for i, spacing in enumerate(spacingrange): #enumerate(range(minsp,maxsp+1,stepsp)):\n",
    "        for j, length in enumerate(windowrange): #enumerate(range(minlength,maxlength+1,steplength)):\n",
    "            print('********************************')\n",
    "            print('Iteration for spacing={} and window length={}'.format(spacing,length))\n",
    "\n",
    "            ####### 1) Load dataset #######\n",
    "            print('1) Loading dataset into (XX,yy)...')\n",
    "\n",
    "            XX = None\n",
    "            yy = None\n",
    "            folderpath='../Features_raw'\n",
    "\n",
    "            for filename in os.listdir(folderpath):\n",
    "                if filename.endswith('_sp' + str(spacing) + '_w' + str(length) + '.dat'):\n",
    "                    label = 0\n",
    "                    if int(filename[9]) > 5:\n",
    "                        label = 1\n",
    "                    fullname = folderpath + '/' + filename\n",
    "                    XX, yy = load_window_dataset(XX, yy, fullname, label)\n",
    "\n",
    "            scaler = StandardScaler()\n",
    "            XX = scaler.fit_transform(XX)\n",
    "\n",
    "            X_train, X_test, y_train, y_test = train_test_split(XX, yy, stratify=yy, test_size=0.3, random_state=42)\n",
    "            print('Training XGB...')\n",
    "            xgb, xgb_ttimes = train_classifier_XGB(X_train, y_train)\n",
    "\n",
    "            print('Training DNN...')\n",
    "            dnn, dnn_ttimes = train_classifier_DNN(X_train, y_train)\n",
    "\n",
    "            print('Training KNN...')\n",
    "            knn, knn_ttimes = train_classifier_KNN(X_train, y_train)\n",
    "\n",
    "            xgb_all_ttimes.append(xgb_ttimes)\n",
    "            dnn_all_ttimes.append(dnn_ttimes)\n",
    "            knn_all_ttimes.append(knn_ttimes)\n",
    "\n",
    "            y_pred_XGB = xgb.predict(X_test)\n",
    "            y_pred_DNN = dnn.predict(X_test)\n",
    "            y_pred_KNN = knn.predict(X_test)\n",
    "\n",
    "            A_XGB[i,j], GP_XGB[i,j], GR_XGB[i,j], GF1_XGB[i,j] = performance_eval(y_test, y_pred_XGB, lbl, label_names)\n",
    "            A_DNN[i,j], GP_DNN[i,j], GR_DNN[i,j], GF1_DNN[i,j] = performance_eval(y_test, y_pred_DNN, lbl, label_names)\n",
    "            A_KNN[i,j], GP_KNN[i,j], GR_KNN[i,j], GF1_KNN[i,j] = performance_eval(y_test, y_pred_KNN, lbl, label_names)\n",
    "\n",
    "    return xgb_all_ttimes, dnn_all_ttimes, knn_all_ttimes"
   ]
  },
  {
   "cell_type": "code",
   "execution_count": 9,
   "metadata": {},
   "outputs": [],
   "source": [
    "def candle_trainng_size_impact(fig_folder, alg_name, ttimes, windowrange, spacingrange):\n",
    "    if len(spacingrange) == 1:\n",
    "        considered_range = windowrange\n",
    "        valutation_type = 'Window length'\n",
    "    else:\n",
    "        considered_range = spacingrange\n",
    "        valutation_type = 'Spacing length'\n",
    "        \n",
    "    fig, ax = plt.subplots(figsize=(15,8))\n",
    "    bplots = []\n",
    "    n_perc = len(considered_range)\n",
    "    \n",
    "    for i in range(n_perc):\n",
    "        bplots.append(ax.boxplot(ttimes[i], positions = [i], patch_artist=True))\n",
    "\n",
    "    for bplot in bplots:\n",
    "        for patch in bplot['boxes']:\n",
    "            patch.set_facecolor('lightblue')\n",
    "    \n",
    "    plt.xticks(color='black')\n",
    "    plt.yticks(color='black')\n",
    "    plt.grid(1)\n",
    "    plt.xticks(ticks = list(range(n_perc)), labels = [str(x) for x in considered_range], fontsize = 14)\n",
    "    plt.setp(ax.xaxis.get_majorticklabels(), ha=\"center\") \n",
    "    plt.ylabel('Seconds', color='black', fontsize=14)\n",
    "    title=alg_name+' '+ valutation_type+' impact on Traning Time with '\n",
    "    if len(windowrange) == 1:\n",
    "        title = title + 'W=' + str(windowrange[0])\n",
    "        plt.xlabel('Spacing length, s', color='black', fontsize=14)\n",
    "    else:\n",
    "        title = title + 'S=' + str(spacingrange[0])\n",
    "        plt.xlabel('Window length, s', color='black', fontsize=14)\n",
    "        \n",
    "    plt.title(title, fontsize=14)\n",
    "    plt.setp( ax.xaxis.get_majorticklabels(), rotation=-45, ha=\"left\", rotation_mode=\"anchor\") \n",
    "    plt.show()\n",
    "    fig.savefig(fig_folder+'/'+title.replace(\" \", \"_\")+'.png')"
   ]
  },
  {
   "cell_type": "code",
   "execution_count": 10,
   "metadata": {
    "scrolled": true
   },
   "outputs": [
    {
     "name": "stdout",
     "output_type": "stream",
     "text": [
      "********************************\n",
      "Iteration for spacing=1 and window length=10\n",
      "1) Loading dataset into (XX,yy)...\n",
      "Training XGB...\n",
      "8.207573175430298\n",
      "7.408642530441284\n"
     ]
    },
    {
     "ename": "KeyboardInterrupt",
     "evalue": "",
     "output_type": "error",
     "traceback": [
      "\u001b[1;31m---------------------------------------------------------------------------\u001b[0m",
      "\u001b[1;31mKeyboardInterrupt\u001b[0m                         Traceback (most recent call last)",
      "Cell \u001b[1;32mIn [10], line 7\u001b[0m\n\u001b[0;32m      5\u001b[0m windowrange\u001b[38;5;241m=\u001b[39m\u001b[38;5;28mlist\u001b[39m(chain(\u001b[38;5;28mrange\u001b[39m(\u001b[38;5;241m10\u001b[39m,\u001b[38;5;241m101\u001b[39m,\u001b[38;5;241m10\u001b[39m), \u001b[38;5;28mrange\u001b[39m(\u001b[38;5;241m200\u001b[39m,\u001b[38;5;241m3601\u001b[39m,\u001b[38;5;241m100\u001b[39m)))\n\u001b[0;32m      6\u001b[0m spacingrange\u001b[38;5;241m=\u001b[39m[\u001b[38;5;241m1\u001b[39m]\n\u001b[1;32m----> 7\u001b[0m xgb_all_ttimes, dnn_all_ttimes, knn_all_ttimes \u001b[38;5;241m=\u001b[39m \u001b[43mtraining_loop\u001b[49m\u001b[43m(\u001b[49m\u001b[43mwindowrange\u001b[49m\u001b[43m,\u001b[49m\u001b[43m \u001b[49m\u001b[43mspacingrange\u001b[49m\u001b[43m)\u001b[49m\n",
      "Cell \u001b[1;32mIn [8], line 56\u001b[0m, in \u001b[0;36mtraining_loop\u001b[1;34m(windowrange, spacingrange)\u001b[0m\n\u001b[0;32m     54\u001b[0m X_train, X_test, y_train, y_test \u001b[38;5;241m=\u001b[39m train_test_split(XX, yy, stratify\u001b[38;5;241m=\u001b[39myy, test_size\u001b[38;5;241m=\u001b[39m\u001b[38;5;241m0.3\u001b[39m, random_state\u001b[38;5;241m=\u001b[39m\u001b[38;5;241m42\u001b[39m)\n\u001b[0;32m     55\u001b[0m \u001b[38;5;28mprint\u001b[39m(\u001b[38;5;124m'\u001b[39m\u001b[38;5;124mTraining XGB...\u001b[39m\u001b[38;5;124m'\u001b[39m)\n\u001b[1;32m---> 56\u001b[0m xgb, xgb_ttimes \u001b[38;5;241m=\u001b[39m \u001b[43mtrain_classifier_XGB\u001b[49m\u001b[43m(\u001b[49m\u001b[43mX_train\u001b[49m\u001b[43m,\u001b[49m\u001b[43m \u001b[49m\u001b[43my_train\u001b[49m\u001b[43m)\u001b[49m\n\u001b[0;32m     58\u001b[0m \u001b[38;5;28mprint\u001b[39m(\u001b[38;5;124m'\u001b[39m\u001b[38;5;124mTraining DNN...\u001b[39m\u001b[38;5;124m'\u001b[39m)\n\u001b[0;32m     59\u001b[0m dnn, dnn_ttimes \u001b[38;5;241m=\u001b[39m train_classifier_DNN(X_train, y_train)\n",
      "Cell \u001b[1;32mIn [4], line 8\u001b[0m, in \u001b[0;36mtrain_classifier_XGB\u001b[1;34m(X_train, y_train)\u001b[0m\n\u001b[0;32m      6\u001b[0m \u001b[38;5;28;01mfor\u001b[39;00m i \u001b[38;5;129;01min\u001b[39;00m \u001b[38;5;28mrange\u001b[39m(\u001b[38;5;241m0\u001b[39m, \u001b[38;5;241m3\u001b[39m):\n\u001b[0;32m      7\u001b[0m     t0 \u001b[38;5;241m=\u001b[39m time\u001b[38;5;241m.\u001b[39mtime()\n\u001b[1;32m----> 8\u001b[0m     \u001b[43mxgb\u001b[49m\u001b[38;5;241;43m.\u001b[39;49m\u001b[43mfit\u001b[49m\u001b[43m(\u001b[49m\u001b[43mX_train\u001b[49m\u001b[43m,\u001b[49m\u001b[43m \u001b[49m\u001b[43my_train\u001b[49m\u001b[43m)\u001b[49m\n\u001b[0;32m      9\u001b[0m     t1 \u001b[38;5;241m=\u001b[39m time\u001b[38;5;241m.\u001b[39mtime()\n\u001b[0;32m     10\u001b[0m     ex_time \u001b[38;5;241m=\u001b[39m t1 \u001b[38;5;241m-\u001b[39m t0\n",
      "File \u001b[1;32m~\\anaconda3\\envs\\ML\\lib\\site-packages\\xgboost\\core.py:506\u001b[0m, in \u001b[0;36m_deprecate_positional_args.<locals>.inner_f\u001b[1;34m(*args, **kwargs)\u001b[0m\n\u001b[0;32m    504\u001b[0m \u001b[38;5;28;01mfor\u001b[39;00m k, arg \u001b[38;5;129;01min\u001b[39;00m \u001b[38;5;28mzip\u001b[39m(sig\u001b[38;5;241m.\u001b[39mparameters, args):\n\u001b[0;32m    505\u001b[0m     kwargs[k] \u001b[38;5;241m=\u001b[39m arg\n\u001b[1;32m--> 506\u001b[0m \u001b[38;5;28;01mreturn\u001b[39;00m f(\u001b[38;5;241m*\u001b[39m\u001b[38;5;241m*\u001b[39mkwargs)\n",
      "File \u001b[1;32m~\\anaconda3\\envs\\ML\\lib\\site-packages\\xgboost\\sklearn.py:1250\u001b[0m, in \u001b[0;36mXGBClassifier.fit\u001b[1;34m(self, X, y, sample_weight, base_margin, eval_set, eval_metric, early_stopping_rounds, verbose, xgb_model, sample_weight_eval_set, base_margin_eval_set, feature_weights, callbacks)\u001b[0m\n\u001b[0;32m   1230\u001b[0m model, feval, params \u001b[38;5;241m=\u001b[39m \u001b[38;5;28mself\u001b[39m\u001b[38;5;241m.\u001b[39m_configure_fit(xgb_model, eval_metric, params)\n\u001b[0;32m   1231\u001b[0m train_dmatrix, evals \u001b[38;5;241m=\u001b[39m _wrap_evaluation_matrices(\n\u001b[0;32m   1232\u001b[0m     missing\u001b[38;5;241m=\u001b[39m\u001b[38;5;28mself\u001b[39m\u001b[38;5;241m.\u001b[39mmissing,\n\u001b[0;32m   1233\u001b[0m     X\u001b[38;5;241m=\u001b[39mX,\n\u001b[1;32m   (...)\u001b[0m\n\u001b[0;32m   1247\u001b[0m     label_transform\u001b[38;5;241m=\u001b[39mlabel_transform,\n\u001b[0;32m   1248\u001b[0m )\n\u001b[1;32m-> 1250\u001b[0m \u001b[38;5;28mself\u001b[39m\u001b[38;5;241m.\u001b[39m_Booster \u001b[38;5;241m=\u001b[39m \u001b[43mtrain\u001b[49m\u001b[43m(\u001b[49m\n\u001b[0;32m   1251\u001b[0m \u001b[43m    \u001b[49m\u001b[43mparams\u001b[49m\u001b[43m,\u001b[49m\n\u001b[0;32m   1252\u001b[0m \u001b[43m    \u001b[49m\u001b[43mtrain_dmatrix\u001b[49m\u001b[43m,\u001b[49m\n\u001b[0;32m   1253\u001b[0m \u001b[43m    \u001b[49m\u001b[38;5;28;43mself\u001b[39;49m\u001b[38;5;241;43m.\u001b[39;49m\u001b[43mget_num_boosting_rounds\u001b[49m\u001b[43m(\u001b[49m\u001b[43m)\u001b[49m\u001b[43m,\u001b[49m\n\u001b[0;32m   1254\u001b[0m \u001b[43m    \u001b[49m\u001b[43mevals\u001b[49m\u001b[38;5;241;43m=\u001b[39;49m\u001b[43mevals\u001b[49m\u001b[43m,\u001b[49m\n\u001b[0;32m   1255\u001b[0m \u001b[43m    \u001b[49m\u001b[43mearly_stopping_rounds\u001b[49m\u001b[38;5;241;43m=\u001b[39;49m\u001b[43mearly_stopping_rounds\u001b[49m\u001b[43m,\u001b[49m\n\u001b[0;32m   1256\u001b[0m \u001b[43m    \u001b[49m\u001b[43mevals_result\u001b[49m\u001b[38;5;241;43m=\u001b[39;49m\u001b[43mevals_result\u001b[49m\u001b[43m,\u001b[49m\n\u001b[0;32m   1257\u001b[0m \u001b[43m    \u001b[49m\u001b[43mobj\u001b[49m\u001b[38;5;241;43m=\u001b[39;49m\u001b[43mobj\u001b[49m\u001b[43m,\u001b[49m\n\u001b[0;32m   1258\u001b[0m \u001b[43m    \u001b[49m\u001b[43mfeval\u001b[49m\u001b[38;5;241;43m=\u001b[39;49m\u001b[43mfeval\u001b[49m\u001b[43m,\u001b[49m\n\u001b[0;32m   1259\u001b[0m \u001b[43m    \u001b[49m\u001b[43mverbose_eval\u001b[49m\u001b[38;5;241;43m=\u001b[39;49m\u001b[43mverbose\u001b[49m\u001b[43m,\u001b[49m\n\u001b[0;32m   1260\u001b[0m \u001b[43m    \u001b[49m\u001b[43mxgb_model\u001b[49m\u001b[38;5;241;43m=\u001b[39;49m\u001b[43mmodel\u001b[49m\u001b[43m,\u001b[49m\n\u001b[0;32m   1261\u001b[0m \u001b[43m    \u001b[49m\u001b[43mcallbacks\u001b[49m\u001b[38;5;241;43m=\u001b[39;49m\u001b[43mcallbacks\u001b[49m\u001b[43m,\u001b[49m\n\u001b[0;32m   1262\u001b[0m \u001b[43m\u001b[49m\u001b[43m)\u001b[49m\n\u001b[0;32m   1264\u001b[0m \u001b[38;5;28;01mif\u001b[39;00m \u001b[38;5;129;01mnot\u001b[39;00m callable(\u001b[38;5;28mself\u001b[39m\u001b[38;5;241m.\u001b[39mobjective):\n\u001b[0;32m   1265\u001b[0m     \u001b[38;5;28mself\u001b[39m\u001b[38;5;241m.\u001b[39mobjective \u001b[38;5;241m=\u001b[39m params[\u001b[38;5;124m\"\u001b[39m\u001b[38;5;124mobjective\u001b[39m\u001b[38;5;124m\"\u001b[39m]\n",
      "File \u001b[1;32m~\\anaconda3\\envs\\ML\\lib\\site-packages\\xgboost\\training.py:188\u001b[0m, in \u001b[0;36mtrain\u001b[1;34m(params, dtrain, num_boost_round, evals, obj, feval, maximize, early_stopping_rounds, evals_result, verbose_eval, xgb_model, callbacks)\u001b[0m\n\u001b[0;32m    115\u001b[0m \u001b[38;5;28;01mdef\u001b[39;00m \u001b[38;5;21mtrain\u001b[39m(params, dtrain, num_boost_round\u001b[38;5;241m=\u001b[39m\u001b[38;5;241m10\u001b[39m, evals\u001b[38;5;241m=\u001b[39m(), obj\u001b[38;5;241m=\u001b[39m\u001b[38;5;28;01mNone\u001b[39;00m, feval\u001b[38;5;241m=\u001b[39m\u001b[38;5;28;01mNone\u001b[39;00m,\n\u001b[0;32m    116\u001b[0m           maximize\u001b[38;5;241m=\u001b[39m\u001b[38;5;28;01mNone\u001b[39;00m, early_stopping_rounds\u001b[38;5;241m=\u001b[39m\u001b[38;5;28;01mNone\u001b[39;00m, evals_result\u001b[38;5;241m=\u001b[39m\u001b[38;5;28;01mNone\u001b[39;00m,\n\u001b[0;32m    117\u001b[0m           verbose_eval\u001b[38;5;241m=\u001b[39m\u001b[38;5;28;01mTrue\u001b[39;00m, xgb_model\u001b[38;5;241m=\u001b[39m\u001b[38;5;28;01mNone\u001b[39;00m, callbacks\u001b[38;5;241m=\u001b[39m\u001b[38;5;28;01mNone\u001b[39;00m):\n\u001b[0;32m    118\u001b[0m     \u001b[38;5;66;03m# pylint: disable=too-many-statements,too-many-branches, attribute-defined-outside-init\u001b[39;00m\n\u001b[0;32m    119\u001b[0m     \u001b[38;5;124;03m\"\"\"Train a booster with given parameters.\u001b[39;00m\n\u001b[0;32m    120\u001b[0m \n\u001b[0;32m    121\u001b[0m \u001b[38;5;124;03m    Parameters\u001b[39;00m\n\u001b[1;32m   (...)\u001b[0m\n\u001b[0;32m    186\u001b[0m \u001b[38;5;124;03m    Booster : a trained booster model\u001b[39;00m\n\u001b[0;32m    187\u001b[0m \u001b[38;5;124;03m    \"\"\"\u001b[39;00m\n\u001b[1;32m--> 188\u001b[0m     bst \u001b[38;5;241m=\u001b[39m \u001b[43m_train_internal\u001b[49m\u001b[43m(\u001b[49m\u001b[43mparams\u001b[49m\u001b[43m,\u001b[49m\u001b[43m \u001b[49m\u001b[43mdtrain\u001b[49m\u001b[43m,\u001b[49m\n\u001b[0;32m    189\u001b[0m \u001b[43m                          \u001b[49m\u001b[43mnum_boost_round\u001b[49m\u001b[38;5;241;43m=\u001b[39;49m\u001b[43mnum_boost_round\u001b[49m\u001b[43m,\u001b[49m\n\u001b[0;32m    190\u001b[0m \u001b[43m                          \u001b[49m\u001b[43mevals\u001b[49m\u001b[38;5;241;43m=\u001b[39;49m\u001b[43mevals\u001b[49m\u001b[43m,\u001b[49m\n\u001b[0;32m    191\u001b[0m \u001b[43m                          \u001b[49m\u001b[43mobj\u001b[49m\u001b[38;5;241;43m=\u001b[39;49m\u001b[43mobj\u001b[49m\u001b[43m,\u001b[49m\u001b[43m \u001b[49m\u001b[43mfeval\u001b[49m\u001b[38;5;241;43m=\u001b[39;49m\u001b[43mfeval\u001b[49m\u001b[43m,\u001b[49m\n\u001b[0;32m    192\u001b[0m \u001b[43m                          \u001b[49m\u001b[43mxgb_model\u001b[49m\u001b[38;5;241;43m=\u001b[39;49m\u001b[43mxgb_model\u001b[49m\u001b[43m,\u001b[49m\u001b[43m \u001b[49m\u001b[43mcallbacks\u001b[49m\u001b[38;5;241;43m=\u001b[39;49m\u001b[43mcallbacks\u001b[49m\u001b[43m,\u001b[49m\n\u001b[0;32m    193\u001b[0m \u001b[43m                          \u001b[49m\u001b[43mverbose_eval\u001b[49m\u001b[38;5;241;43m=\u001b[39;49m\u001b[43mverbose_eval\u001b[49m\u001b[43m,\u001b[49m\n\u001b[0;32m    194\u001b[0m \u001b[43m                          \u001b[49m\u001b[43mevals_result\u001b[49m\u001b[38;5;241;43m=\u001b[39;49m\u001b[43mevals_result\u001b[49m\u001b[43m,\u001b[49m\n\u001b[0;32m    195\u001b[0m \u001b[43m                          \u001b[49m\u001b[43mmaximize\u001b[49m\u001b[38;5;241;43m=\u001b[39;49m\u001b[43mmaximize\u001b[49m\u001b[43m,\u001b[49m\n\u001b[0;32m    196\u001b[0m \u001b[43m                          \u001b[49m\u001b[43mearly_stopping_rounds\u001b[49m\u001b[38;5;241;43m=\u001b[39;49m\u001b[43mearly_stopping_rounds\u001b[49m\u001b[43m)\u001b[49m\n\u001b[0;32m    197\u001b[0m     \u001b[38;5;28;01mreturn\u001b[39;00m bst\n",
      "File \u001b[1;32m~\\anaconda3\\envs\\ML\\lib\\site-packages\\xgboost\\training.py:81\u001b[0m, in \u001b[0;36m_train_internal\u001b[1;34m(params, dtrain, num_boost_round, evals, obj, feval, xgb_model, callbacks, evals_result, maximize, verbose_eval, early_stopping_rounds)\u001b[0m\n\u001b[0;32m     79\u001b[0m \u001b[38;5;28;01mif\u001b[39;00m callbacks\u001b[38;5;241m.\u001b[39mbefore_iteration(bst, i, dtrain, evals):\n\u001b[0;32m     80\u001b[0m     \u001b[38;5;28;01mbreak\u001b[39;00m\n\u001b[1;32m---> 81\u001b[0m \u001b[43mbst\u001b[49m\u001b[38;5;241;43m.\u001b[39;49m\u001b[43mupdate\u001b[49m\u001b[43m(\u001b[49m\u001b[43mdtrain\u001b[49m\u001b[43m,\u001b[49m\u001b[43m \u001b[49m\u001b[43mi\u001b[49m\u001b[43m,\u001b[49m\u001b[43m \u001b[49m\u001b[43mobj\u001b[49m\u001b[43m)\u001b[49m\n\u001b[0;32m     82\u001b[0m \u001b[38;5;28;01mif\u001b[39;00m callbacks\u001b[38;5;241m.\u001b[39mafter_iteration(bst, i, dtrain, evals):\n\u001b[0;32m     83\u001b[0m     \u001b[38;5;28;01mbreak\u001b[39;00m\n",
      "File \u001b[1;32m~\\anaconda3\\envs\\ML\\lib\\site-packages\\xgboost\\core.py:1680\u001b[0m, in \u001b[0;36mBooster.update\u001b[1;34m(self, dtrain, iteration, fobj)\u001b[0m\n\u001b[0;32m   1677\u001b[0m \u001b[38;5;28mself\u001b[39m\u001b[38;5;241m.\u001b[39m_validate_features(dtrain)\n\u001b[0;32m   1679\u001b[0m \u001b[38;5;28;01mif\u001b[39;00m fobj \u001b[38;5;129;01mis\u001b[39;00m \u001b[38;5;28;01mNone\u001b[39;00m:\n\u001b[1;32m-> 1680\u001b[0m     _check_call(\u001b[43m_LIB\u001b[49m\u001b[38;5;241;43m.\u001b[39;49m\u001b[43mXGBoosterUpdateOneIter\u001b[49m\u001b[43m(\u001b[49m\u001b[38;5;28;43mself\u001b[39;49m\u001b[38;5;241;43m.\u001b[39;49m\u001b[43mhandle\u001b[49m\u001b[43m,\u001b[49m\n\u001b[0;32m   1681\u001b[0m \u001b[43m                                            \u001b[49m\u001b[43mctypes\u001b[49m\u001b[38;5;241;43m.\u001b[39;49m\u001b[43mc_int\u001b[49m\u001b[43m(\u001b[49m\u001b[43miteration\u001b[49m\u001b[43m)\u001b[49m\u001b[43m,\u001b[49m\n\u001b[0;32m   1682\u001b[0m \u001b[43m                                            \u001b[49m\u001b[43mdtrain\u001b[49m\u001b[38;5;241;43m.\u001b[39;49m\u001b[43mhandle\u001b[49m\u001b[43m)\u001b[49m)\n\u001b[0;32m   1683\u001b[0m \u001b[38;5;28;01melse\u001b[39;00m:\n\u001b[0;32m   1684\u001b[0m     pred \u001b[38;5;241m=\u001b[39m \u001b[38;5;28mself\u001b[39m\u001b[38;5;241m.\u001b[39mpredict(dtrain, output_margin\u001b[38;5;241m=\u001b[39m\u001b[38;5;28;01mTrue\u001b[39;00m, training\u001b[38;5;241m=\u001b[39m\u001b[38;5;28;01mTrue\u001b[39;00m)\n",
      "\u001b[1;31mKeyboardInterrupt\u001b[0m: "
     ]
    }
   ],
   "source": [
    "fig_folder = '1_6_Figures'\n",
    "if not os.path.exists(fig_folder):\n",
    "    os.makedirs(fig_folder)\n",
    "\n",
    "windowrange=list(chain(range(10,101,10), range(200,3601,100)))\n",
    "spacingrange=[1]\n",
    "xgb_all_ttimes, dnn_all_ttimes, knn_all_ttimes = training_loop(windowrange, spacingrange)"
   ]
  },
  {
   "cell_type": "code",
   "execution_count": null,
   "metadata": {},
   "outputs": [],
   "source": [
    "candle_trainng_size_impact(fig_folder, 'XGB', xgb_all_ttimes, windowrange, spacingrange)\n",
    "candle_trainng_size_impact(fig_folder, 'MLP', dnn_all_ttimes, windowrange, spacingrange)\n",
    "candle_trainng_size_impact(fig_folder, 'KNN', knn_all_ttimes, windowrange, spacingrange)"
   ]
  },
  {
   "cell_type": "code",
   "execution_count": null,
   "metadata": {},
   "outputs": [],
   "source": [
    "###############################################################################\n",
    "###### Windows\n",
    "###############################################################################\n",
    "\n",
    "def draw_summary_plot(fig_folder, a_limit, b_limit, windowrange, spacingrange):\n",
    "\n",
    "    global A_XGB, GP_XGB, GR_XGB, GF1_XGB\n",
    "    global A_DNN, GP_DNN, GR_DNN, GF1_DNN\n",
    "    global A_KNN, GP_KNN, GR_KNN, GF1_KNN\n",
    "    \n",
    "    xvalues = None\n",
    "    if len(windowrange) == 1:\n",
    "        xvalues=np.array(spacingrange)\n",
    "        subject = 'Spacing'\n",
    "    else:\n",
    "        xvalues=np.array(windowrange)\n",
    "        subject = 'Window'\n",
    "\n",
    "    A_XGB = A_XGB.reshape(-1, 1)\n",
    "    GP_XGB = GP_XGB.reshape(-1, 1)\n",
    "    GR_XGB = GR_XGB.reshape(-1, 1)\n",
    "    GF1_XGB = GF1_XGB.reshape(-1, 1)\n",
    "\n",
    "    A_DNN = A_DNN.reshape(-1, 1)\n",
    "    GP_DNN = GP_DNN.reshape(-1, 1)\n",
    "    GR_DNN = GR_DNN.reshape(-1, 1)\n",
    "    GF1_DNN = GF1_DNN.reshape(-1, 1)\n",
    "\n",
    "    A_KNN = A_KNN.reshape(-1, 1)\n",
    "    GP_KNN = GP_KNN.reshape(-1, 1)\n",
    "    GR_KNN = GR_KNN.reshape(-1, 1)\n",
    "    GF1_KNN = GF1_KNN.reshape(-1, 1)\n",
    "\n",
    "    fig, axs = plt.subplots(2, 2, sharex='all', figsize=(20,15))\n",
    "\n",
    "    axs[0,0].plot(xvalues[a_limit:b_limit], A_XGB[a_limit:b_limit], label = 'XGB')\n",
    "    axs[0,0].plot(xvalues[a_limit:b_limit], A_DNN[a_limit:b_limit], label = 'DNN')\n",
    "    axs[0,0].plot(xvalues[a_limit:b_limit], A_KNN[a_limit:b_limit], label = 'KNN')\n",
    "    axs[0,0].set_xticks(xvalues)\n",
    "    axs[0,0].tick_params(labelrotation=55)\n",
    "    axs[0,0].set_title('Accuracy')\n",
    "    axs[0,0].set_ylabel('Accuracy')\n",
    "    axs[0,0].yaxis.grid(True)\n",
    "\n",
    "    axs[0,1].plot(xvalues[a_limit:b_limit], GP_XGB[a_limit:b_limit], label = 'XGB')\n",
    "    axs[0,1].plot(xvalues[a_limit:b_limit], GP_DNN[a_limit:b_limit], label = 'DNN')\n",
    "    axs[0,1].plot(xvalues[a_limit:b_limit], GP_KNN[a_limit:b_limit], label = 'KNN')\n",
    "    axs[0,1].set_title('Precision')\n",
    "    axs[0,1].set_ylabel('Precision')\n",
    "    axs[0,1].tick_params(labelrotation=55)\n",
    "    axs[0,1].yaxis.grid(True)\n",
    "\n",
    "    axs[1,0].plot(xvalues[a_limit:b_limit], GR_XGB[a_limit:b_limit], label = 'XGB')\n",
    "    axs[1,0].plot(xvalues[a_limit:b_limit], GR_DNN[a_limit:b_limit], label = 'DNN')\n",
    "    axs[1,0].plot(xvalues[a_limit:b_limit], GR_KNN[a_limit:b_limit], label = 'KNN')\n",
    "    axs[1,0].set_title('Recall')\n",
    "    axs[1,0].set_ylabel('Recall')\n",
    "    axs[1,0].tick_params(labelrotation=55)\n",
    "    axs[1,0].yaxis.grid(True)\n",
    "\n",
    "    axs[1,1].plot(xvalues[a_limit:b_limit], GF1_XGB[a_limit:b_limit], label = 'XGB')\n",
    "    axs[1,1].plot(xvalues[a_limit:b_limit], GF1_DNN[a_limit:b_limit], label = 'DNN')\n",
    "    axs[1,1].plot(xvalues[a_limit:b_limit], GF1_KNN[a_limit:b_limit], label = 'KNN')\n",
    "    axs[1,1].set_title('F1-Score')\n",
    "    axs[1,1].set_ylabel('F1-Score')\n",
    "    axs[1,1].tick_params(labelrotation=55)\n",
    "    axs[1,1].yaxis.grid(True)\n",
    "\n",
    "    axs[1,0].set_xlabel(subject+' length, s')\n",
    "    axs[1,1].set_xlabel(subject+' length, s')\n",
    "\n",
    "    axs[1,1].legend(loc='best')\n",
    "\n",
    "    title = 'Impact of ' + subject + ' length with '\n",
    "    if len(windowrange) == 1:\n",
    "        title = title + 'W=' + str(windowrange[0])\n",
    "    else:\n",
    "        title = title + 'S=' + str(spacingrange[0])\n",
    "    \n",
    "    fig.suptitle(title)\n",
    "    \n",
    "    fig.tight_layout()\n",
    "    fig.savefig(fig_folder+'/'+str(a_limit)+'_'+str(b_limit)+'_'+subject+'_duration.png')"
   ]
  },
  {
   "cell_type": "code",
   "execution_count": null,
   "metadata": {},
   "outputs": [],
   "source": [
    "# Window Specific view\n",
    "draw_summary_plot(fig_folder, 0, 10, windowrange, spacingrange)"
   ]
  },
  {
   "cell_type": "code",
   "execution_count": null,
   "metadata": {},
   "outputs": [],
   "source": [
    "###############################################################################\n",
    "###### Spacing\n",
    "###############################################################################\n",
    "windowrange=[80]\n",
    "spacingrange=list(range(10,161,10))\n",
    "\n",
    "A_XGB = np.zeros([len(spacingrange),len(windowrange)])\n",
    "GP_XGB = np.zeros([len(spacingrange),len(windowrange)])\n",
    "GR_XGB = np.zeros([len(spacingrange),len(windowrange)])\n",
    "GF1_XGB = np.zeros([len(spacingrange),len(windowrange)])\n",
    "\n",
    "A_DNN = np.zeros([len(spacingrange),len(windowrange)])\n",
    "GP_DNN = np.zeros([len(spacingrange),len(windowrange)])\n",
    "GR_DNN = np.zeros([len(spacingrange),len(windowrange)])\n",
    "GF1_DNN = np.zeros([len(spacingrange),len(windowrange)])\n",
    "\n",
    "A_KNN = np.zeros([len(spacingrange),len(windowrange)])\n",
    "GP_KNN = np.zeros([len(spacingrange),len(windowrange)])\n",
    "GR_KNN = np.zeros([len(spacingrange),len(windowrange)])\n",
    "GF1_KNN = np.zeros([len(spacingrange),len(windowrange)])\n",
    "\n",
    "training_loop(windowrange, spacingrange)"
   ]
  },
  {
   "cell_type": "code",
   "execution_count": null,
   "metadata": {},
   "outputs": [],
   "source": [
    "candle_trainng_size_impact(fig_folder, 'XGB', xgb_all_ttimes, windowrange, spacingrange)\n",
    "candle_trainng_size_impact(fig_folder, 'MLP', dnn_all_ttimes, windowrange, spacingrange)\n",
    "candle_trainng_size_impact(fig_folder, 'KNN', knn_all_ttimes, windowrange, spacingrange)"
   ]
  },
  {
   "cell_type": "code",
   "execution_count": null,
   "metadata": {},
   "outputs": [],
   "source": [
    "# Spacing Global view\n",
    "draw_summary_plot(fig_folder, 0, len(A_KNN), windowrange, spacingrange)"
   ]
  }
 ],
 "metadata": {
  "colab": {
   "collapsed_sections": [],
   "include_colab_link": true,
   "provenance": []
  },
  "kernelspec": {
   "display_name": "Python 3 (ipykernel)",
   "language": "python",
   "name": "python3"
  },
  "language_info": {
   "codemirror_mode": {
    "name": "ipython",
    "version": 3
   },
   "file_extension": ".py",
   "mimetype": "text/x-python",
   "name": "python",
   "nbconvert_exporter": "python",
   "pygments_lexer": "ipython3",
   "version": "3.9.15"
  }
 },
 "nbformat": 4,
 "nbformat_minor": 1
}
